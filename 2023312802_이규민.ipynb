{
  "cells": [
    {
      "cell_type": "code",
      "execution_count": 17,
      "metadata": {
        "colab": {
          "base_uri": "https://localhost:8080/"
        },
        "id": "azNgkBPqSIUM",
        "outputId": "2c1396ba-4c91-4aae-8de7-cd042c9488b5"
      },
      "outputs": [
        {
          "name": "stdout",
          "output_type": "stream",
          "text": [
            "2\n",
            "False\n"
          ]
        }
      ],
      "source": [
        "num=int(input())\n",
        "sum=0\n",
        "count=0;\n",
        "while (sum!=1):\n",
        "  while(num>=10):\n",
        "    sum=0\n",
        "    sum=sum+(num%10)*(num%10)\n",
        "    num=int(num/10)\n",
        "  if((num%10)!=0):\n",
        "    sum=sum+(num%10)*(num%10)\n",
        "  num=sum\n",
        "  count+=1\n",
        "  if(count==1000):\n",
        "    print(\"False\")\n",
        "    break;\n",
        "if(sum==1):\n",
        "  print(\"True\")"
      ]
    }
  ],
  "metadata": {
    "accelerator": "GPU",
    "colab": {
      "gpuType": "T4",
      "provenance": []
    },
    "kernelspec": {
      "display_name": "Python 3",
      "name": "python3"
    },
    "language_info": {
      "name": "python"
    }
  },
  "nbformat": 4,
  "nbformat_minor": 0
}
